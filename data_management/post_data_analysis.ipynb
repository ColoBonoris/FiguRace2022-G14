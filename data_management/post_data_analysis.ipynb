{
 "cells": [
  {
   "cell_type": "code",
   "execution_count": 18,
   "metadata": {},
   "outputs": [],
   "source": [
    "import sys\n",
    "import os\n",
    "sys.path.append(os.path.join(os.path.abspath(''), '..'))\n",
    "from src.constants.directions import *\n",
    "from src.constants.style import *\n",
    "import pandas as pd\n",
    "import time\n",
    "from pathlib import Path\n",
    "import matplotlib.pyplot as plt"
   ]
  },
  {
   "cell_type": "code",
   "execution_count": 19,
   "metadata": {},
   "outputs": [],
   "source": [
    "df = pd.read_csv(MATCHES_DIR, delimiter=',',encoding='utf-8')"
   ]
  },
  {
   "cell_type": "markdown",
   "metadata": {},
   "source": [
    "## Top 10 de palabras que se encuentran primero de todas las partidas"
   ]
  },
  {
   "cell_type": "code",
   "execution_count": 20,
   "metadata": {},
   "outputs": [
    {
     "name": "stdout",
     "output_type": "stream",
     "text": [
      "Las 10 palabras que se adivinan primero en todas las partidas son las siguientes (a la izquierda la palabra, a la derecha los segundos en promedio que tarda en ser adivinada):\n",
      "correct\n",
      "Bruno Mars    0.19\n",
      "dtype: float64\n"
     ]
    }
   ],
   "source": [
    "correct_options = df[df[\"state\"]==\"ok\"]\n",
    "correct_keys = correct_options[\"correct\"].unique()\n",
    "corrects_quantity = correct_options.groupby([\"correct\"]).size()\n",
    "corrects_time = correct_options[[\"correct\",\"time_elapsed\"]]\n",
    "tam = len(corrects_time)\n",
    "for x in correct_keys:\n",
    "    total = 0\n",
    "    for i in range(0,tam):\n",
    "        actual = corrects_time.iloc[i]\n",
    "        if actual[\"correct\"]==x:\n",
    "            total += round(float(actual[\"time_elapsed\"]),2)\n",
    "    corrects_quantity[x]=total/corrects_quantity[x]\n",
    "corrects_quantity.sort_values(ascending=True).head(10)\n",
    "\n",
    "if (len( corrects_quantity)==0):\n",
    "    print ('NO HUBO PALABRAS ADIVINADAS')\n",
    "else:\n",
    "    print (\"Las 10 palabras que se adivinan primero en todas las partidas son las siguientes (a la izquierda la palabra, a la derecha los segundos en promedio que tarda en ser adivinada):\")\n",
    "    print(corrects_quantity.sort_values().tail(10))\n"
   ]
  },
  {
   "cell_type": "markdown",
   "metadata": {},
   "source": [
    "## Gráfico que muestre el porcentaje de partidas finalizadas según género.\n"
   ]
  },
  {
   "cell_type": "code",
   "execution_count": 21,
   "metadata": {},
   "outputs": [
    {
     "data": {
      "text/plain": [
       "<function matplotlib.pyplot.show(close=None, block=None)>"
      ]
     },
     "execution_count": 21,
     "metadata": {},
     "output_type": "execute_result"
    },
    {
     "data": {
      "image/png": "[encoded data removed]",
      "text/plain": [
       "<Figure size 432x288 with 1 Axes>"
      ]
     },
     "metadata": {},
     "output_type": "display_data"
    }
   ],
   "source": [
    "data_json = pd.read_json(USERS_DIR)\n",
    "\n",
    "generos_nicks = data_json[['nick','gender']]\n",
    "jugadores = df['player'].tolist()\n",
    "eventos=df['event'].tolist()\n",
    "nicks=[]\n",
    "tamaño=len(df)\n",
    "for i in range (0,tamaño):\n",
    "    if(eventos[i] == 'match_ended'):\n",
    "        nicks.append((jugadores[i]))\n",
    "generos_nicks=generos_nicks.values.tolist()\n",
    "dict_generos_nicks = {}\n",
    "for i in generos_nicks:\n",
    "    dict_generos_nicks[i[0]] = i[1]\n",
    "final_dict = {}\n",
    "for i in nicks:\n",
    "    try:\n",
    "        final_dict[dict_generos_nicks[i]] += 1\n",
    "    except KeyError:\n",
    "        final_dict[dict_generos_nicks[i]] = 1\n",
    "plt.pie(final_dict.values(),labels=final_dict.keys(),autopct='%1.1f%%')\n",
    "plt.show"
   ]
  },
  {
   "cell_type": "markdown",
   "metadata": {},
   "source": [
    "## Grafico que muestre el porcentaje de partidas finalizadas segun nivel:"
   ]
  },
  {
   "cell_type": "code",
   "execution_count": 22,
   "metadata": {},
   "outputs": [
    {
     "data": {
      "text/plain": [
       "<function matplotlib.pyplot.show(close=None, block=None)>"
      ]
     },
     "execution_count": 22,
     "metadata": {},
     "output_type": "execute_result"
    },
    {
     "data": {
      "image/png": "[encoded data removed]",
      "text/plain": [
       "<Figure size 432x288 with 1 Axes>"
      ]
     },
     "metadata": {},
     "output_type": "display_data"
    }
   ],
   "source": [
    "\n",
    "eventos_nivel=df[(df['event'] =='match_ended')]\n",
    "eventos_nivel = eventos_nivel['level'].value_counts()\n",
    "plt.pie(eventos_nivel.values,labels=eventos_nivel.keys(),autopct='%1.1f%%')\n",
    "plt.show"
   ]
  },
  {
   "cell_type": "markdown",
   "metadata": {},
   "source": [
    "## Duración total de la partida (desde que el usuarie empieza a jugar hasta que presiona salir o pasan las N rondas definidas para el nivel de dificultad actual)."
   ]
  },
  {
   "cell_type": "code",
   "execution_count": 23,
   "metadata": {},
   "outputs": [
    {
     "data": {
      "image/png": "[encoded data removed]",
      "text/plain": [
       "<Figure size 432x288 with 1 Axes>"
      ]
     },
     "metadata": {
      "needs_background": "light"
     },
     "output_type": "display_data"
    }
   ],
   "source": [
    "eventos=df['event'].tolist()\n",
    "estado=df['state'].tolist()\n",
    "tiempos_totales=df['time_elapsed']\n",
    "ids=df['id']\n",
    "ids_tiempos=[]\n",
    "tiempototal=0\n",
    "tamaño=len(df)\n",
    "for i in range(1,tamaño):\n",
    "    if(eventos[i] == 'guess_made'): \n",
    "        tiempototal+=float(tiempos_totales[i])\n",
    "    elif(eventos[i] == 'match_started'):\n",
    "        tiempototal=0\n",
    "    elif(eventos[i] == 'match_ended'):\n",
    "        ids_tiempos.append((tiempototal, ids[i]))\n",
    "\n",
    "#ids_tiempos_sort=ids_tiempos.sort(key=lambda y: y[1])\n",
    "rango=range(0,len(ids_tiempos))\n",
    "plt.bar(rango,list(map(lambda x: x[0],ids_tiempos)))\n",
    "plt.show()"
   ]
  },
  {
   "cell_type": "markdown",
   "metadata": {},
   "source": [
    "## Tiempo de la respuesta exitosa mas rápida"
   ]
  },
  {
   "cell_type": "code",
   "execution_count": 24,
   "metadata": {},
   "outputs": [
    {
     "name": "stdout",
     "output_type": "stream",
     "text": [
      "Respuesta exitosa mas rapida: 0.19 segundos\n"
     ]
    }
   ],
   "source": [
    "df= pd.read_csv(MATCHES_DIR, encoding='utf-8')\n",
    "tiempos_totales=df['time_elapsed']\n",
    "eventos=df['event'].tolist()\n",
    "estado=df['state'].tolist()\n",
    "tamaño=len(df)\n",
    "t_exitoso=90\n",
    "t_act=0\n",
    "for i in range(1,tamaño):\n",
    "    if (eventos[i] == 'guess_made') and (estado[i] == 'ok' ):\n",
    "        t_act = float(tiempos_totales[i])\n",
    "        if (t_act < t_exitoso): \n",
    "            t_exitoso = t_act\n",
    "print(f\"Respuesta exitosa mas rapida: {round(t_exitoso,2)} segundos\")"
   ]
  },
  {
   "cell_type": "markdown",
   "metadata": {},
   "source": [
    "## Promedio de tiempo de respuestas para respuestas exitosas"
   ]
  },
  {
   "cell_type": "code",
   "execution_count": 25,
   "metadata": {},
   "outputs": [
    {
     "name": "stdout",
     "output_type": "stream",
     "text": [
      "Promedio de tiempo de respuestas para respuestas exitosas: 0.19 segundos\n"
     ]
    }
   ],
   "source": [
    "usuarios=df['player'].unique().tolist()\n",
    "promedio_correctas=0\n",
    "correctas=df[['player','event','state','time_elapsed']]\n",
    "correctas=correctas[(correctas['event'] == \"guess_made\") & (df['state']==\"ok\")]\n",
    "correctas['time_elapsed']=correctas['time_elapsed'].astype(float,errors='raise')\n",
    "for i in usuarios:\n",
    "        if(len(correctas[correctas['player']==i]))!=0:\n",
    "            usuario_act=(correctas[correctas['player']==i])\n",
    "            promedio_correctas+=usuario_act['time_elapsed'].mean()\n",
    "    \n",
    "print (f\"Promedio de tiempo de respuestas para respuestas exitosas: {round(promedio_correctas,2)} segundos\")\n",
    "    \n",
    "    "
   ]
  },
  {
   "cell_type": "markdown",
   "metadata": {},
   "source": [
    "## Promedio de tiempo de partida general.\n"
   ]
  },
  {
   "cell_type": "code",
   "execution_count": 26,
   "metadata": {},
   "outputs": [
    {
     "name": "stdout",
     "output_type": "stream",
     "text": [
      "Promedio de tiempo de partida general: 0 minutos y 1 segundos\n"
     ]
    }
   ],
   "source": [
    "def segundos_a_segundos_minutos_y_horas(segundos):\n",
    "\n",
    "    minutos = int(segundos/60)\n",
    "    segundos -= minutos*60\n",
    "    return minutos,segundos\n",
    "\n",
    "tamano=len(df)\n",
    "df_tiempo=df[['event','time_elapsed']]\n",
    "tiempo_total=0\n",
    "tiempo_act=0\n",
    "partidas_completadas=0\n",
    "for i in range (0,tamano):\n",
    "    fila_act=df_tiempo.iloc[i]\n",
    "    if (fila_act['event'] == 'match_started'):\n",
    "        tiempo_act=0\n",
    "    elif (fila_act['event'] == 'match_ended'):\n",
    "        tiempo_total+=tiempo_act\n",
    "        partidas_completadas+=1\n",
    "    elif (fila_act['event'] == 'guess_made'):\n",
    "            tiempo_act+=float(fila_act['time_elapsed'])\n",
    "    \n",
    "        \n",
    "promedio_partidas=tiempo_total/partidas_completadas\n",
    "minutos,segundos=segundos_a_segundos_minutos_y_horas(int(promedio_partidas))\n",
    "print (f\"Promedio de tiempo de partida general: {minutos} minutos y {segundos} segundos\")\n"
   ]
  },
  {
   "cell_type": "markdown",
   "metadata": {},
   "source": [
    "## Porcentaje de aciertos por usuario"
   ]
  },
  {
   "cell_type": "code",
   "execution_count": 27,
   "metadata": {},
   "outputs": [
    {
     "name": "stdout",
     "output_type": "stream",
     "text": [
      "El usuario b tiene un porcentaje de aciertos de 50.0%\n"
     ]
    }
   ],
   "source": [
    "\n",
    "df_porcentajes=df[['player','event','state']]\n",
    "df_porcentajes=df_porcentajes[df_porcentajes['event']=='guess_made']\n",
    "\n",
    "dic_aciertos={}\n",
    "\n",
    "for i in usuarios:\n",
    "    usuario_act=(df_porcentajes[df_porcentajes['player']==i])\n",
    "    respuestas=usuario_act['state'].value_counts()\n",
    "    try:\n",
    "        aciertos=respuestas['ok']\n",
    "    except KeyError:\n",
    "        aciertos=0\n",
    "    porcentaje = round((aciertos/len(usuario_act))*100,2) if len(usuario_act)!=0 else 0\n",
    "    dic_aciertos[i]=porcentaje\n",
    "    dic_aciertos[i]=f\"{porcentaje}%\"\n",
    "for clave in dic_aciertos:\n",
    "    print (f'El usuario {clave} tiene un porcentaje de aciertos de {dic_aciertos[clave]}')\n"
   ]
  },
  {
   "cell_type": "markdown",
   "metadata": {},
   "source": [
    "## Cantidad de tarjetas para las que el usuarie no dió respuesta (timeout).\n"
   ]
  },
  {
   "cell_type": "code",
   "execution_count": 28,
   "metadata": {},
   "outputs": [
    {
     "name": "stdout",
     "output_type": "stream",
     "text": [
      "El usuario b no dio respuesta a 0 preguntas\n"
     ]
    }
   ],
   "source": [
    "dic_timeout={}\n",
    "df_timeout=df[['player','event']]\n",
    "for i in usuarios:\n",
    "    usuario_act=(df_timeout[df_timeout['player']==i])\n",
    "    timeout=(usuario_act[usuario_act['event']=='timeout'])\n",
    "    dic_timeout[i]=len(timeout)\n",
    "    \n",
    "for clave in dic_timeout:\n",
    "\n",
    "    print (f'El usuario {clave} no dio respuesta a {dic_timeout[clave]} preguntas')\n",
    "    "
   ]
  },
  {
   "cell_type": "markdown",
   "metadata": {},
   "source": [
    "## Cantidad de tarjetas en las que el usuarie dió una respuesta errónea.\n"
   ]
  },
  {
   "cell_type": "code",
   "execution_count": 29,
   "metadata": {},
   "outputs": [
    {
     "name": "stdout",
     "output_type": "stream",
     "text": [
      "El usuario b dio una respuesta erronea a 1 preguntas\n"
     ]
    }
   ],
   "source": [
    "dic_errores={}\n",
    "df_errores=df[['player','event','state']]\n",
    "for i in usuarios:\n",
    "    usuario_act=(df_errores[df_errores['player']==i])\n",
    "    errores=(usuario_act[(usuario_act['event']=='guess_made') & (usuario_act['state']=='error')])\n",
    "    dic_errores[i]=len(errores)\n",
    "    \n",
    "for clave in dic_errores:\n",
    "    print (f'El usuario {clave} dio una respuesta erronea a {dic_errores[clave]} preguntas')\n",
    "    "
   ]
  },
  {
   "cell_type": "markdown",
   "metadata": {},
   "source": [
    "## Gráfico que muestre el porcentaje de partidas que se juegan para cada día de la semana"
   ]
  },
  {
   "cell_type": "code",
   "execution_count": 30,
   "metadata": {},
   "outputs": [
    {
     "data": {
      "text/plain": [
       "<function matplotlib.pyplot.show(close=None, block=None)>"
      ]
     },
     "execution_count": 30,
     "metadata": {},
     "output_type": "execute_result"
    },
    {
     "data": {
      "image/png": "[encoded data removed]",
      "text/plain": [
       "<Figure size 432x288 with 1 Axes>"
      ]
     },
     "metadata": {},
     "output_type": "display_data"
    }
   ],
   "source": [
    "###Matches per day \n",
    "from matplotlib import pyplot as plt\n",
    "%matplotlib inline\n",
    "\n",
    "def day_matches(df,day):\n",
    "    \"\"\"This function tries to access\n",
    "    the data from the dataframe and\n",
    "    get the matches of the day.\n",
    "    Returns zero if can´t access a day that \n",
    "    doesn´t exist on the DataFrame\n",
    "    \"\"\"\n",
    "    try: \n",
    "        return df[day]\n",
    "    except KeyError:\n",
    "        return 0\n",
    "    \n",
    "dates = df[\"timestamp\"]\n",
    "string_dates = list(map(lambda x:time.ctime(x),dates))\n",
    "string_dates = list(map(lambda x:x[:3],string_dates))\n",
    "\n",
    "datos = {\n",
    "    'dias':string_dates\n",
    "}\n",
    "days = pd.DataFrame(data=datos)\n",
    "days = days.groupby(['dias']).size()\n",
    "\n",
    "Monday_matches = day_matches(days,\"Mon\")\n",
    "Tuesday_matches = day_matches(days,\"Tue\")\n",
    "Wednesday_matches = day_matches(days,\"Wed\")\n",
    "Thursday_matches = day_matches(days,\"Thu\")\n",
    "Friday_matches = day_matches(days,\"Fri\")\n",
    "Saturday_matches = day_matches(days,\"Sat\")\n",
    "Sunday_matches = day_matches(days,\"Sun\")\n",
    "\n",
    "labels=[\"Monday\",\"Tuesday\",\"Wednesday\",\"Thursday\",\"Friday\",\"Saturday\",\"Sunday\"]\n",
    "data_graphic =[\n",
    "    Monday_matches, Tuesday_matches, Wednesday_matches, Thursday_matches, Friday_matches, Saturday_matches, Sunday_matches \n",
    "] \n",
    "\n",
    "plt.pie(data_graphic,  labels=labels, autopct='%1.2f%%',\n",
    "shadow=True, startangle=90, labeldistance= 1.1)\n",
    "plt.axis('equal')\n",
    "plt.legend(labels)\n",
    "plt.title(\"Matches per day\")\n",
    "plt.show\n"
   ]
  },
  {
   "cell_type": "markdown",
   "metadata": {},
   "source": [
    "## Promedio de tiempo de partidas finalizadas por nivel.\n"
   ]
  },
  {
   "cell_type": "code",
   "execution_count": 31,
   "metadata": {},
   "outputs": [
    {
     "name": "stdout",
     "output_type": "stream",
     "text": [
      "El promedio de tiempo de partidas finalizadas en el nivel Facil es de  0 minutos y 0 segundos\n",
      "El promedio de tiempo de partidas finalizadas en el nivel Medio es de  0 minutos y 1 segundos\n",
      "El promedio de tiempo de partidas finalizadas en el nivel Dificil es de  0 minutos y 0 segundos\n"
     ]
    }
   ],
   "source": [
    "\n",
    "\n",
    "def nivel_ended_game_time(df):\n",
    "    try:\n",
    "        tamano = len(df)\n",
    "        df_seconds = df[[\"event\",\"time_elapsed\"]]\n",
    "\n",
    "        tiempo_actual=0\n",
    "        tiempo_total=0\n",
    "        partidas_completadas=0\n",
    "        for x in  range(0,tamano):\n",
    "            actual = df_seconds.iloc[x]\n",
    "            if(actual[\"event\"]==\"match_started\"):\n",
    "                tiempo_actual = 0\n",
    "            elif(actual[\"event\"]==\"match_ended\"):\n",
    "                tiempo_total += tiempo_actual\n",
    "                partidas_completadas+=1\n",
    "            elif (actual[\"event\"] == \"guess_made\"):\n",
    "\n",
    "                tiempo_actual+=round(float(actual[\"time_elapsed\"]),2)\n",
    "        if tiempo_total==0:\n",
    "            return 0\n",
    "        else:\n",
    "            return tiempo_total/partidas_completadas\n",
    "\n",
    "    except KeyError:\n",
    "        return 0\n",
    "easy = df[(df['level']==\"Easy\")]\n",
    "m_ended_time = nivel_ended_game_time(easy)\n",
    "minutos,segundos=segundos_a_segundos_minutos_y_horas(int(m_ended_time))\n",
    "print(f\"El promedio de tiempo de partidas finalizadas en el nivel Facil es de  {minutos} minutos y {segundos} segundos\")\n",
    "\n",
    "medium = df[(df['level']==\"Medium\")]\n",
    "m_ended_time = nivel_ended_game_time(medium)\n",
    "minutos,segundos=segundos_a_segundos_minutos_y_horas(int(m_ended_time))\n",
    "print(f\"El promedio de tiempo de partidas finalizadas en el nivel Medio es de  {minutos} minutos y {segundos} segundos\")\n",
    "\n",
    "hard = df[(df['level']==\"Hard\")]\n",
    "m_ended_time = nivel_ended_game_time(hard)\n",
    "minutos,segundos=segundos_a_segundos_minutos_y_horas(int(m_ended_time))\n",
    "print(f\"El promedio de tiempo de partidas finalizadas en el nivel Dificil es de  {minutos} minutos y {segundos} segundos\")"
   ]
  },
  {
   "cell_type": "markdown",
   "metadata": {},
   "source": [
    "## Porcentaje de palabras encontradas en las partidas “timeout, es decir que finalizaron por falta de tiempo para completar.\n"
   ]
  },
  {
   "cell_type": "code",
   "execution_count": 32,
   "metadata": {},
   "outputs": [
    {
     "data": {
      "text/plain": [
       "<function matplotlib.pyplot.show(close=None, block=None)>"
      ]
     },
     "execution_count": 32,
     "metadata": {},
     "output_type": "execute_result"
    },
    {
     "data": {
      "image/png": "[encoded data removed]",
      "text/plain": [
       "<Figure size 432x288 with 1 Axes>"
      ]
     },
     "metadata": {},
     "output_type": "display_data"
    }
   ],
   "source": [
    "def event(df,event):\n",
    "    try:\n",
    "        return partidas[event]\n",
    "    except KeyError:\n",
    "        return 0\n",
    "    \n",
    "partidas = df.groupby([\"event\"]).size()\n",
    "\n",
    "labels=[\"Others\",\"Timeout\"]\n",
    "\n",
    "data_graphic =[\n",
    "    df[\"event\"].count(),event(partidas,\"timeout\") \n",
    "] \n",
    "\n",
    "plt.pie(data_graphic,  labels=labels, autopct='%1.2f%%',\n",
    "shadow=True, startangle=90, labeldistance= 1.1)\n",
    "plt.axis('equal')\n",
    "plt.legend(labels)\n",
    "plt.title(\"Porcentaje de las rondas que finalizaron por timeout\")\n",
    "plt.show"
   ]
  }
 ],
 "metadata": {
  "kernelspec": {
   "display_name": "Python 3.10.5 64-bit",
   "language": "python",
   "name": "python3"
  },
  "language_info": {
   "codemirror_mode": {
    "name": "ipython",
    "version": 3
   },
   "file_extension": ".py",
   "mimetype": "text/x-python",
   "name": "python",
   "nbconvert_exporter": "python",
   "pygments_lexer": "ipython3",
   "version": "3.10.5"
  },
  "vscode": {
   "interpreter": {
    "hash": "2dd72797434c49583bf67a9f5ed6504d2c2ef4a99788b5d5f573ed6a7660e1b6"
   }
  }
 },
 "nbformat": 4,
 "nbformat_minor": 2
}
