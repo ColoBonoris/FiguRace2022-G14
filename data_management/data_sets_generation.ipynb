{
 "cells": [
  {
   "cell_type": "markdown",
   "id": "55e7b71b",
   "metadata": {},
   "source": [
    "## Importaciones"
   ]
  },
  {
   "cell_type": "markdown",
   "id": "a4c1b32d",
   "metadata": {},
   "source": [
    "##### Se importan los módulos y las direcciones a utilizar (debe ejecutarse antes de ejecutar cualquier otra celda de codigo en este notebook)"
   ]
  },
  {
   "cell_type": "code",
   "execution_count": 1,
   "id": "bddfff57",
   "metadata": {},
   "outputs": [],
   "source": [
    "import pandas as pd\n",
    "import sys\n",
    "import os\n",
    "import re\n",
    "sys.path.append(os.path.join(os.path.abspath(''), '..'))\n",
    "from src.constants.directions import *\n",
    "from src.constants.style import *"
   ]
  },
  {
   "cell_type": "markdown",
   "id": "512587ff",
   "metadata": {},
   "source": [
    "## DataSet Lagos "
   ]
  },
  {
   "cell_type": "markdown",
   "id": "52aa48f4",
   "metadata": {},
   "source": [
    "##### Se define la función transform_coordinates, que transformará las coordenadas en grados a decimales.\n",
    "##### Luego se abre el archivo con pandas y se pasa a  utilizar:\n",
    "#####   * Se transforman las coordenadas\n",
    "#####   * Se seleccionan las columnas que se van a utilizar y se ordenan\n",
    "#####   * Se reemplazan todos los valores NaN por \"Desconocido\", como se nos pidió\n",
    "#####   * Se genera el orden para luego usarlo en selección de dificultad\n",
    "#####   * Se guarda el archivo .csv"
   ]
  },
  {
   "cell_type": "code",
   "execution_count": 16,
   "id": "079ff6d9",
   "metadata": {},
   "outputs": [],
   "source": [
    "def transform_coordinates(coordenadas):\n",
    "    \"\"\"\n",
    "        Transforms cordinates from degrees to float.\n",
    "    \"\"\"\n",
    "    coordenadas=str(coordenadas).replace('S','').replace('O','').replace('\"','')\n",
    "    coordenadas=re.split(\"[°' ]\",coordenadas)\n",
    "    coordenadas = list(map(lambda x: int(x),coordenadas))\n",
    "    primer_decimal=(float(coordenadas[0])+(coordenadas[1]/60)+(coordenadas[2]/3600))\n",
    "    segundo_decimal=(float(coordenadas[3])+(coordenadas[4]/60)+(coordenadas[5]/3600))\n",
    "    coordenadas=[primer_decimal,segundo_decimal]\n",
    "    coordenadas=str(coordenadas).replace('[','').replace(']','').replace('\"','')\n",
    "    return coordenadas\n",
    "\n",
    "lakes_df = pd.read_csv(OLD_LAKES_DIR, sep=',', encoding='utf-8')\n",
    "lakes_df['Coordenadas'] = lakes_df['Coordenadas'].apply(transform_coordinates)\n",
    "lakes_df = lakes_df[['Ubicación', 'Superficie (km²)', 'Profundidad máxima (m)', 'Profundidad media (m)', 'Coordenadas', 'Nombre']]\n",
    "lakes_df.fillna('Desconocido',inplace=True)\n",
    "lakes_df.sort_values(by=['Superficie (km²)'], ascending=False, inplace=True)\n",
    "\n",
    "lakes_df.to_csv(LAKES_DIR,index=False,encoding=\"utf-8\")"
   ]
  },
  {
   "cell_type": "markdown",
   "id": "348f7be5",
   "metadata": {},
   "source": [
    "## DataSet Spotify"
   ]
  },
  {
   "cell_type": "markdown",
   "id": "25ca319c",
   "metadata": {},
   "source": [
    "##### Primero se abre el archivo con pandas, para a partir de eso modificarlo:\n",
    "#####   * Se ordenan y filtran las columnas\n",
    "#####   * Se cambia el nombre de los encabezados\n",
    "#####   * Se asigna el tipo de la columna \"Top Genre\" como str (sino da error)\n",
    "#####   * Se aplica la transformación pedida para encabezados (los que no están en genre_list van en upper(), los demás con el formato de title())\n",
    "#####   * Se eliminan los valores NaN\n",
    "#####   * Se genera el orden para luego usarlo en selección de dificultad\n",
    "#####   * Se guarda el archivo .csv"
   ]
  },
  {
   "cell_type": "code",
   "execution_count": 14,
   "id": "29ed5494",
   "metadata": {},
   "outputs": [],
   "source": [
    "genre_list = [\"edm\",\"dfw\",\"uk\",\"r&b\",\"lgbtq+\"]\n",
    "\n",
    "spotify_df = pd.read_csv(OLD_SPOTIFY_DIR,encoding=\"utf-8\")\n",
    "\n",
    "spotify_df = spotify_df[[\"top genre\",\"artist type\",\"year released\",\"top year\",\"bpm\",\"artist\"]]\n",
    "spotify_df.columns = [\"Top Genre\",\"Artist Type\",\"Year Released\",\"Top Year\",\"BPM\",\"Artist\"]\n",
    "\n",
    "spotify_df[\"Top Genre\"] = spotify_df[\"Top Genre\"].astype(str)\n",
    "spotify_df[\"Top Genre\"] = spotify_df[\"Top Genre\"].apply(lambda x: x.title() if x not in genre_list else x.upper())\n",
    "\n",
    "spotify_df = spotify_df.dropna()\n",
    "spotify_df.sort_values(by=[\"Year Released\", \"Top Year\"], ascending=False, inplace=True)\n",
    "\n",
    "spotify_df.to_csv(SPOTIFY_DIR,index=False,encoding=\"utf-8\")"
   ]
  },
  {
   "cell_type": "markdown",
   "id": "b8b3cf1c",
   "metadata": {},
   "source": [
    "## DataSet Fifa"
   ]
  },
  {
   "cell_type": "markdown",
   "id": "ed29d79a",
   "metadata": {},
   "source": [
    "##### Se definen dos funciones:\n",
    "#####   * reemplazar_potencial, que transforma el potencial de numero al formato solicitado\n",
    "#####   * actualizar_posicion, que se vale del diccionario nuevas_posiciones (que contiene el par abreviación-completo) para escribir las posiciones en el formato solicitado\n",
    "##### Luego se abre el dataset con pandas, para modificarlo:\n",
    "#####   * Se genera el orden para luego usarlo en selección de dificultad\n",
    "#####   * Se filtran y ordenan las columnas\n",
    "#####   * Se cambia el formato de las columnas a title()\n",
    "#####   * Se eliminan los valores NaN\n",
    "#####   * Se actualizan el potencial y la posicion utilizando las funciones ya descriptas\n",
    "#####   * Se guarda el csv"
   ]
  },
  {
   "cell_type": "code",
   "execution_count": 15,
   "id": "3570c606",
   "metadata": {},
   "outputs": [],
   "source": [
    "def reemplazar_potencial(potencial):\n",
    "    if (potencial<60):\n",
    "        return \"Regular\"\n",
    "    elif (potencial>=60 and potencial <=79):\n",
    "        return \"Bueno\"\n",
    "    elif (potencial>=80 and potencial <=89):\n",
    "        return \"Muy Bueno\"\n",
    "    elif (potencial>=90):\n",
    "        return \"Sobresaliente\"\n",
    "\n",
    "nuevas_posiciones = {\n",
    "    'ST':'Delantero Centro', 'CF': 'Mediapunta', 'LW':'Extremo Izquierdo',\n",
    "    'RW':'Extremo Derecho', 'RM':'Mediocampista Derecho', 'LM':'Mediocampista Izquierdo',\n",
    "    'CAM': 'Mediocampista Ofensivo', 'CM':'Mediocampista', 'CDM':'Mediocampista Defensivo',\n",
    "    'RB':'Lateral Derecho', 'LB':'Lateral Izquierdo', 'CB':'Defensor Central', \n",
    "    'RWB':'Carrilero Derecho', 'LWB':'Carrilero Izquierdo','GK':'Arquero'\n",
    "}\n",
    "\n",
    "def actualizar_posicion(posicion):\n",
    "    todas_posiciones=posicion.split('|')\n",
    "    posicion=[nuevas_posiciones[x] for x in todas_posiciones]\n",
    "    posicion=str(posicion).replace(',',' |').replace(\"'\",\"\").replace('[',\"\").replace(']',\"\")\n",
    "    return posicion\n",
    "\n",
    "fifa_df = pd.read_csv(OLD_FIFA_DIR, sep=';', encoding='utf-8')\n",
    "fifa_df.sort_values(by=[\"potential\", \"overall\"], ascending=False, inplace=True)\n",
    "\n",
    "fifa_df = fifa_df[[\"team\",\"nationality\",\"position\",\"age\",\"potential\",\"name\"]]\n",
    "fifa_df.columns = [x.title() for x in fifa_df.columns]\n",
    "\n",
    "fifa_df = fifa_df.dropna()\n",
    "fifa_df ['Potential'] = fifa_df[\"Potential\"].apply(reemplazar_potencial)\n",
    "fifa_df['Position'] = fifa_df[\"Position\"].apply(actualizar_posicion)\n",
    "\n",
    "fifa_df.to_csv(FIFA_DIR,index=False,encoding=\"utf-8\")"
   ]
  }
 ],
 "metadata": {
  "interpreter": {
   "hash": "2dd72797434c49583bf67a9f5ed6504d2c2ef4a99788b5d5f573ed6a7660e1b6"
  },
  "kernelspec": {
   "display_name": "Python 3.10.4 64-bit",
   "language": "python",
   "name": "python3"
  },
  "language_info": {
   "codemirror_mode": {
    "name": "ipython",
    "version": 3
   },
   "file_extension": ".py",
   "mimetype": "text/x-python",
   "name": "python",
   "nbconvert_exporter": "python",
   "pygments_lexer": "ipython3",
   "version": "3.10.5"
  }
 },
 "nbformat": 4,
 "nbformat_minor": 5
}
